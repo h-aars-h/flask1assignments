{
 "cells": [
  {
   "cell_type": "code",
   "execution_count": null,
   "id": "5ec53685-97d2-4e35-baf2-73e9f2d114d1",
   "metadata": {},
   "outputs": [],
   "source": [
    "# Q1. What is Flask Framework? What are the advantages of Flask Framework?\n",
    "# Ans 1 =Flask is a microframework offering all the basic features of a web application.\n",
    "# the advantages of Flask Framework is  Scalable. Size is everything, and Flask's status as a microframework means that you can use it to grow a tech\n",
    "# project such as a web app incredibly quickly."
   ]
  },
  {
   "cell_type": "code",
   "execution_count": null,
   "id": "136be1f2-90fc-4438-8f26-8a4ed3845ca0",
   "metadata": {},
   "outputs": [
    {
     "name": "stdout",
     "output_type": "stream",
     "text": [
      " * Serving Flask app '__main__'\n",
      " * Debug mode: off\n"
     ]
    },
    {
     "name": "stderr",
     "output_type": "stream",
     "text": [
      "WARNING: This is a development server. Do not use it in a production deployment. Use a production WSGI server instead.\n",
      " * Running on all addresses (0.0.0.0)\n",
      " * Running on http://127.0.0.1:5000\n",
      " * Running on http://172.18.0.21:5000\n",
      "Press CTRL+C to quit\n"
     ]
    }
   ],
   "source": [
    "# Q2. Create a simple Flask application to display ‘Hello World!!’. Attach the screenshot of the output in\n",
    "# Jupyter Notebook.\n",
    "from flask import Flask\n",
    "app = Flask(__name__)\n",
    "\n",
    "@app.route(\"/\")\n",
    "def hello_world():\n",
    "    return \"<h1>Hello, World!</h1>\"\n",
    "if __name__==\"__main__\":\n",
    "    app.run(host=\"0.0.0.0\")"
   ]
  },
  {
   "cell_type": "code",
   "execution_count": 1,
   "id": "92b25295-9d76-4e26-888c-f62f4cd990be",
   "metadata": {},
   "outputs": [
    {
     "name": "stdout",
     "output_type": "stream",
     "text": [
      "Requirement already satisfied: flask in /opt/conda/lib/python3.10/site-packages (2.2.3)\n",
      "Requirement already satisfied: itsdangerous>=2.0 in /opt/conda/lib/python3.10/site-packages (from flask) (2.1.2)\n",
      "Requirement already satisfied: click>=8.0 in /opt/conda/lib/python3.10/site-packages (from flask) (8.1.3)\n",
      "Requirement already satisfied: Werkzeug>=2.2.2 in /opt/conda/lib/python3.10/site-packages (from flask) (2.2.3)\n",
      "Requirement already satisfied: Jinja2>=3.0 in /opt/conda/lib/python3.10/site-packages (from flask) (3.1.2)\n",
      "Requirement already satisfied: MarkupSafe>=2.0 in /opt/conda/lib/python3.10/site-packages (from Jinja2>=3.0->flask) (2.1.1)\n",
      "Note: you may need to restart the kernel to use updated packages.\n"
     ]
    }
   ],
   "source": [
    "pip install flask\n"
   ]
  },
  {
   "cell_type": "code",
   "execution_count": null,
   "id": "084783da-d107-4631-93ce-d935a14aabda",
   "metadata": {},
   "outputs": [],
   "source": [
    "# Q3. What is App routing in Flask? Why do we use app routes?\n",
    "# Ans 3 = App routing is means to navigate the link to the url App Routing means mapping the URLs to \n",
    "# a specific function that will handle the logic for that URL. Modern web frameworks use more meaningful URLs\n",
    "# to help users remember the URLs and make navigation simpler. \n",
    "# Example: In our application, the URL (“/”) is associated with the root URL."
   ]
  },
  {
   "cell_type": "code",
   "execution_count": null,
   "id": "82c0d4be-40cb-4abe-857b-ddaa9965db5b",
   "metadata": {},
   "outputs": [],
   "source": [
    "# Q4. Create a “/welcome” route to display the welcome message “Welcome to ABC Corporation” and a “/”\n",
    "# route to show the following details:\n",
    "# Company Name: ABC Corporation\n",
    "# Location: India\n",
    "# Contact Detail: 999-999-9999\n",
    "from flask import Flask\n",
    "app = Flask(__name__)\n",
    "\n",
    "@app.route(\"/welcome\")\n",
    "def welcome():\n",
    "    return \"<h1>“Welcome to ABC Corporation”</h1>\"\n",
    "@app.route(\"/\")\n",
    "def details():\n",
    "    return \"\"\"Company Name: ABC Corporation\n",
    "              Location: India\n",
    "              Contact Detail: 999-999-9999\"\"\"\n",
    "if __name__==\"__main__\":\n",
    "    app.run(host=\"0.0.0.0\")"
   ]
  },
  {
   "cell_type": "code",
   "execution_count": null,
   "id": "98cafc88-d4fb-4243-bd3e-4a3fccc8a718",
   "metadata": {},
   "outputs": [],
   "source": [
    "#Q5. What function is used in Flask for URL Building? Write a Python code to demonstrate the working of the\n",
    "# url_for() function.\n",
    "# Ans 5The url_for() function is used in Flask for URL building. It is a function that generates a URL to a specific \n",
    "# function or endpoint. The function takes the endpoint name as its first argument and any number of keyword arguments.\n",
    "# The keyword arguments representvariable parts of the URL rule\n",
    "# from flask import Flask, url_for\n",
    "\n",
    "app = Flask(__name__)\n",
    "\n",
    "@app.route('/')\n",
    "def index():\n",
    "    return 'Hello, World!'\n",
    "\n",
    "@app.route('/user/<username>')\n",
    "def user_profile(username):\n",
    "    return f'Hello, {username}!'\n",
    "\n",
    "# Using the url_for function to generate a URL to the index function\n",
    "print(url_for('index'))  # Output: '/'\n",
    "\n",
    "# Using the url_for function to generate a URL to the user_profile function with the username argument set to 'John'\n",
    "print(url_for('user_profile', username='John'))  # Output: '/user/John'\n"
   ]
  },
  {
   "cell_type": "code",
   "execution_count": null,
   "id": "22ed2c77-8ded-418d-b2ee-98a45c0897b3",
   "metadata": {},
   "outputs": [],
   "source": []
  }
 ],
 "metadata": {
  "kernelspec": {
   "display_name": "Python 3 (ipykernel)",
   "language": "python",
   "name": "python3"
  },
  "language_info": {
   "codemirror_mode": {
    "name": "ipython",
    "version": 3
   },
   "file_extension": ".py",
   "mimetype": "text/x-python",
   "name": "python",
   "nbconvert_exporter": "python",
   "pygments_lexer": "ipython3",
   "version": "3.10.6"
  }
 },
 "nbformat": 4,
 "nbformat_minor": 5
}
